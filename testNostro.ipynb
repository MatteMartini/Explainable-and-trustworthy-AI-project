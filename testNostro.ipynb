{
 "cells": [
  {
   "cell_type": "code",
   "execution_count": 1,
   "metadata": {},
   "outputs": [
    {
     "name": "stdout",
     "output_type": "stream",
     "text": [
      "\u001b[33mWARNING: Skipping ferret-xai as it is not installed.\u001b[0m\u001b[33m\n",
      "\u001b[0m"
     ]
    }
   ],
   "source": [
    "! pip uninstall ferret-xai"
   ]
  },
  {
   "cell_type": "code",
   "execution_count": 2,
   "metadata": {},
   "outputs": [
    {
     "name": "stderr",
     "output_type": "stream",
     "text": [
      "`resume_download` is deprecated and will be removed in version 1.0.0. Downloads always resume when possible. If you want to force a new download, use `force_download=True`.\n",
      "Asking to truncate to max_length but no maximum length is provided and the model has no predefined maximum length. Default to no truncation.\n",
      "\n",
      "\u001b[A\n",
      "\u001b[A\n",
      "\u001b[A\n",
      "\u001b[A\n",
      "\u001b[A"
     ]
    },
    {
     "name": "stdout",
     "output_type": "stream",
     "text": [
      "0.0\n"
     ]
    },
    {
     "ename": "ValueError",
     "evalue": "Unknown label type: continuous. Maybe you are trying to fit a classifier, which expects discrete classes on a regression target with continuous values.",
     "output_type": "error",
     "traceback": [
      "\u001b[0;31m---------------------------------------------------------------------------\u001b[0m",
      "\u001b[0;31mValueError\u001b[0m                                Traceback (most recent call last)",
      "Cell \u001b[0;32mIn[2], line 13\u001b[0m\n\u001b[1;32m     10\u001b[0m human_rationale \u001b[39m=\u001b[39m {\u001b[39m\"\u001b[39m\u001b[39m▁I\u001b[39m\u001b[39m\"\u001b[39m: \u001b[39m0\u001b[39m, \u001b[39m\"\u001b[39m\u001b[39m_love\u001b[39m\u001b[39m\"\u001b[39m: \u001b[39m1\u001b[39m, \u001b[39m\"\u001b[39m\u001b[39m_your\u001b[39m\u001b[39m\"\u001b[39m: \u001b[39m0\u001b[39m, \u001b[39m\"\u001b[39m\u001b[39m_style\u001b[39m\u001b[39m\"\u001b[39m: \u001b[39m0\u001b[39m, \u001b[39m\"\u001b[39m\u001b[39m!\u001b[39m\u001b[39m\"\u001b[39m: \u001b[39m0\u001b[39m}\n\u001b[1;32m     12\u001b[0m explanations \u001b[39m=\u001b[39m bench\u001b[39m.\u001b[39mexplain(\u001b[39m\"\u001b[39m\u001b[39mI love your style!\u001b[39m\u001b[39m\"\u001b[39m, target\u001b[39m=\u001b[39m\u001b[39m1\u001b[39m)\n\u001b[0;32m---> 13\u001b[0m evaluations \u001b[39m=\u001b[39m bench\u001b[39m.\u001b[39;49mevaluate_explanations(explanations, target\u001b[39m=\u001b[39;49m\u001b[39m1\u001b[39;49m, human_rationale\u001b[39m=\u001b[39;49m\u001b[39mlist\u001b[39;49m(human_rationale\u001b[39m.\u001b[39;49mvalues()))\n\u001b[1;32m     17\u001b[0m bench\u001b[39m.\u001b[39mshow_evaluation_table(evaluations)\n",
      "File \u001b[0;32m~/Desktop/Poli/Secondo_Anno/Explainable/project/Explainable-and-trustworthy-AI-project/furetto/benchmark.py:353\u001b[0m, in \u001b[0;36mBenchmark.evaluate_explanations\u001b[0;34m(self, explanations, human_rationale, class_explanations, show_progress, **evaluation_args)\u001b[0m\n\u001b[1;32m    349\u001b[0m \u001b[39mif\u001b[39;00m class_explanations_by_explainer \u001b[39mis\u001b[39;00m \u001b[39mnot\u001b[39;00m \u001b[39mNone\u001b[39;00m:\n\u001b[1;32m    350\u001b[0m     class_explanation \u001b[39m=\u001b[39m class_explanations_by_explainer[i]\n\u001b[1;32m    352\u001b[0m explanation_evaluations\u001b[39m.\u001b[39mappend(\n\u001b[0;32m--> 353\u001b[0m     \u001b[39mself\u001b[39;49m\u001b[39m.\u001b[39;49mevaluate_explanation(\n\u001b[1;32m    354\u001b[0m         explanation,\n\u001b[1;32m    355\u001b[0m         human_rationale,\n\u001b[1;32m    356\u001b[0m         class_explanation,\n\u001b[1;32m    357\u001b[0m         show_progress\u001b[39m=\u001b[39;49m\u001b[39mFalse\u001b[39;49;00m,\n\u001b[1;32m    358\u001b[0m         \u001b[39m*\u001b[39;49m\u001b[39m*\u001b[39;49mevaluation_args,\n\u001b[1;32m    359\u001b[0m     )\n\u001b[1;32m    360\u001b[0m )\n\u001b[1;32m    361\u001b[0m \u001b[39mif\u001b[39;00m show_progress:\n\u001b[1;32m    362\u001b[0m     pbar\u001b[39m.\u001b[39mupdate(\u001b[39m1\u001b[39m)\n",
      "File \u001b[0;32m~/Desktop/Poli/Secondo_Anno/Explainable/project/Explainable-and-trustworthy-AI-project/furetto/benchmark.py:292\u001b[0m, in \u001b[0;36mBenchmark.evaluate_explanation\u001b[0;34m(self, explanation, human_rationale, class_explanation, show_progress, **evaluation_args)\u001b[0m\n\u001b[1;32m    284\u001b[0m explanation \u001b[39m=\u001b[39m (\n\u001b[1;32m    285\u001b[0m     \u001b[39mself\u001b[39m\u001b[39m.\u001b[39m_add_rationale(explanation, human_rationale, add_first_last)\n\u001b[1;32m    286\u001b[0m     \u001b[39mif\u001b[39;00m human_rationale \u001b[39mis\u001b[39;00m \u001b[39mnot\u001b[39;00m \u001b[39mNone\u001b[39;00m\n\u001b[1;32m    287\u001b[0m     \u001b[39melse\u001b[39;00m explanation\n\u001b[1;32m    288\u001b[0m )\n\u001b[1;32m    290\u001b[0m \u001b[39mfor\u001b[39;00m evaluator \u001b[39min\u001b[39;00m \u001b[39mself\u001b[39m\u001b[39m.\u001b[39mevaluators:\n\u001b[1;32m    291\u001b[0m     \u001b[39m#print(evaluator)\u001b[39;00m\n\u001b[0;32m--> 292\u001b[0m     evaluation \u001b[39m=\u001b[39m evaluator\u001b[39m.\u001b[39;49mcompute_evaluation(explanation, \u001b[39m*\u001b[39;49m\u001b[39m*\u001b[39;49mevaluation_args)\n\u001b[1;32m    293\u001b[0m     \u001b[39mif\u001b[39;00m (\n\u001b[1;32m    294\u001b[0m         evaluation \u001b[39mis\u001b[39;00m \u001b[39mnot\u001b[39;00m \u001b[39mNone\u001b[39;00m\n\u001b[1;32m    295\u001b[0m     ):  \u001b[39m# return None for plausibility measure if rationale is not available\u001b[39;00m\n\u001b[1;32m    296\u001b[0m         evaluations\u001b[39m.\u001b[39mappend(evaluation)\n",
      "File \u001b[0;32m~/Desktop/Poli/Secondo_Anno/Explainable/project/Explainable-and-trustworthy-AI-project/furetto/evaluators/confidence_measures.py:96\u001b[0m, in \u001b[0;36mCI_Confidence_Evaluation.compute_evaluation\u001b[0;34m(self, explanation, **evaluation_args)\u001b[0m\n\u001b[1;32m     94\u001b[0m \u001b[39m# Predict confidence using logistic regression (LR)\u001b[39;00m\n\u001b[1;32m     95\u001b[0m LR \u001b[39m=\u001b[39m LogisticRegression()\n\u001b[0;32m---> 96\u001b[0m LR\u001b[39m.\u001b[39;49mfit(SD\u001b[39m.\u001b[39;49mreshape(\u001b[39m-\u001b[39;49m\u001b[39m1\u001b[39;49m, \u001b[39m1\u001b[39;49m), [true_confidence])  \u001b[39m# Usa la true confidence calcolata\u001b[39;00m\n\u001b[1;32m     97\u001b[0m predicted_confidence \u001b[39m=\u001b[39m LR\u001b[39m.\u001b[39mpredict(SD\u001b[39m.\u001b[39mreshape(\u001b[39m-\u001b[39m\u001b[39m1\u001b[39m, \u001b[39m1\u001b[39m))\n\u001b[1;32m     99\u001b[0m \u001b[39m# Compute Mean Absolute Error (MAE)\u001b[39;00m\n",
      "File \u001b[0;32m/opt/homebrew/lib/python3.11/site-packages/sklearn/base.py:1473\u001b[0m, in \u001b[0;36m_fit_context.<locals>.decorator.<locals>.wrapper\u001b[0;34m(estimator, *args, **kwargs)\u001b[0m\n\u001b[1;32m   1466\u001b[0m     estimator\u001b[39m.\u001b[39m_validate_params()\n\u001b[1;32m   1468\u001b[0m \u001b[39mwith\u001b[39;00m config_context(\n\u001b[1;32m   1469\u001b[0m     skip_parameter_validation\u001b[39m=\u001b[39m(\n\u001b[1;32m   1470\u001b[0m         prefer_skip_nested_validation \u001b[39mor\u001b[39;00m global_skip_validation\n\u001b[1;32m   1471\u001b[0m     )\n\u001b[1;32m   1472\u001b[0m ):\n\u001b[0;32m-> 1473\u001b[0m     \u001b[39mreturn\u001b[39;00m fit_method(estimator, \u001b[39m*\u001b[39;49margs, \u001b[39m*\u001b[39;49m\u001b[39m*\u001b[39;49mkwargs)\n",
      "File \u001b[0;32m/opt/homebrew/lib/python3.11/site-packages/sklearn/linear_model/_logistic.py:1231\u001b[0m, in \u001b[0;36mLogisticRegression.fit\u001b[0;34m(self, X, y, sample_weight)\u001b[0m\n\u001b[1;32m   1221\u001b[0m     _dtype \u001b[39m=\u001b[39m [np\u001b[39m.\u001b[39mfloat64, np\u001b[39m.\u001b[39mfloat32]\n\u001b[1;32m   1223\u001b[0m X, y \u001b[39m=\u001b[39m \u001b[39mself\u001b[39m\u001b[39m.\u001b[39m_validate_data(\n\u001b[1;32m   1224\u001b[0m     X,\n\u001b[1;32m   1225\u001b[0m     y,\n\u001b[0;32m   (...)\u001b[0m\n\u001b[1;32m   1229\u001b[0m     accept_large_sparse\u001b[39m=\u001b[39msolver \u001b[39mnot\u001b[39;00m \u001b[39min\u001b[39;00m [\u001b[39m\"\u001b[39m\u001b[39mliblinear\u001b[39m\u001b[39m\"\u001b[39m, \u001b[39m\"\u001b[39m\u001b[39msag\u001b[39m\u001b[39m\"\u001b[39m, \u001b[39m\"\u001b[39m\u001b[39msaga\u001b[39m\u001b[39m\"\u001b[39m],\n\u001b[1;32m   1230\u001b[0m )\n\u001b[0;32m-> 1231\u001b[0m check_classification_targets(y)\n\u001b[1;32m   1232\u001b[0m \u001b[39mself\u001b[39m\u001b[39m.\u001b[39mclasses_ \u001b[39m=\u001b[39m np\u001b[39m.\u001b[39munique(y)\n\u001b[1;32m   1234\u001b[0m \u001b[39m# TODO(1.7) remove multi_class\u001b[39;00m\n",
      "File \u001b[0;32m/opt/homebrew/lib/python3.11/site-packages/sklearn/utils/multiclass.py:221\u001b[0m, in \u001b[0;36mcheck_classification_targets\u001b[0;34m(y)\u001b[0m\n\u001b[1;32m    213\u001b[0m y_type \u001b[39m=\u001b[39m type_of_target(y, input_name\u001b[39m=\u001b[39m\u001b[39m\"\u001b[39m\u001b[39my\u001b[39m\u001b[39m\"\u001b[39m)\n\u001b[1;32m    214\u001b[0m \u001b[39mif\u001b[39;00m y_type \u001b[39mnot\u001b[39;00m \u001b[39min\u001b[39;00m [\n\u001b[1;32m    215\u001b[0m     \u001b[39m\"\u001b[39m\u001b[39mbinary\u001b[39m\u001b[39m\"\u001b[39m,\n\u001b[1;32m    216\u001b[0m     \u001b[39m\"\u001b[39m\u001b[39mmulticlass\u001b[39m\u001b[39m\"\u001b[39m,\n\u001b[0;32m   (...)\u001b[0m\n\u001b[1;32m    219\u001b[0m     \u001b[39m\"\u001b[39m\u001b[39mmultilabel-sequences\u001b[39m\u001b[39m\"\u001b[39m,\n\u001b[1;32m    220\u001b[0m ]:\n\u001b[0;32m--> 221\u001b[0m     \u001b[39mraise\u001b[39;00m \u001b[39mValueError\u001b[39;00m(\n\u001b[1;32m    222\u001b[0m         \u001b[39mf\u001b[39m\u001b[39m\"\u001b[39m\u001b[39mUnknown label type: \u001b[39m\u001b[39m{\u001b[39;00my_type\u001b[39m}\u001b[39;00m\u001b[39m. Maybe you are trying to fit a \u001b[39m\u001b[39m\"\u001b[39m\n\u001b[1;32m    223\u001b[0m         \u001b[39m\"\u001b[39m\u001b[39mclassifier, which expects discrete classes on a \u001b[39m\u001b[39m\"\u001b[39m\n\u001b[1;32m    224\u001b[0m         \u001b[39m\"\u001b[39m\u001b[39mregression target with continuous values.\u001b[39m\u001b[39m\"\u001b[39m\n\u001b[1;32m    225\u001b[0m     )\n",
      "\u001b[0;31mValueError\u001b[0m: Unknown label type: continuous. Maybe you are trying to fit a classifier, which expects discrete classes on a regression target with continuous values."
     ]
    }
   ],
   "source": [
    "from transformers import AutoModelForSequenceClassification, AutoTokenizer\n",
    "from furetto.benchmark import Benchmark\n",
    "\n",
    "name = \"cardiffnlp/twitter-xlm-roberta-base-sentiment\"\n",
    "model = AutoModelForSequenceClassification.from_pretrained(name)\n",
    "tokenizer = AutoTokenizer.from_pretrained(name)\n",
    "bench = Benchmark(model, tokenizer)\n",
    "\n",
    "\n",
    "human_rationale = {\"▁I\": 0, \"_love\": 1, \"_your\": 0, \"_style\": 0, \"!\": 0}\n",
    "\n",
    "explanations = bench.explain(\"I love your style!\", target=1)\n",
    "evaluations = bench.evaluate_explanations(explanations, target=1, human_rationale=list(human_rationale.values()))\n",
    "\n",
    "\n",
    "\n",
    "bench.show_evaluation_table(evaluations)"
   ]
  }
 ],
 "metadata": {
  "kernelspec": {
   "display_name": "Python 3",
   "language": "python",
   "name": "python3"
  },
  "language_info": {
   "codemirror_mode": {
    "name": "ipython",
    "version": 3
   },
   "file_extension": ".py",
   "mimetype": "text/x-python",
   "name": "python",
   "nbconvert_exporter": "python",
   "pygments_lexer": "ipython3",
   "version": "3.11.6"
  },
  "orig_nbformat": 4,
  "vscode": {
   "interpreter": {
    "hash": "b0fa6594d8f4cbf19f97940f81e996739fb7646882a419484c72d19e05852a7e"
   }
  }
 },
 "nbformat": 4,
 "nbformat_minor": 2
}
