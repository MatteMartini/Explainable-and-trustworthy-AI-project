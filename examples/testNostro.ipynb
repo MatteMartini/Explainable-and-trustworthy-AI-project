{
 "cells": [
  {
   "cell_type": "code",
   "execution_count": 1,
   "metadata": {},
   "outputs": [
    {
     "name": "stdout",
     "output_type": "stream",
     "text": [
      "Requirement already satisfied: ferret-xai in /Users/andreascaturro/anaconda3/lib/python3.11/site-packages (0.4.2)\n",
      "Requirement already satisfied: captum<0.8.0,>=0.7.0 in /Users/andreascaturro/anaconda3/lib/python3.11/site-packages (from ferret-xai) (0.7.0)\n",
      "Requirement already satisfied: datasets<3.0.0,>=2.16.1 in /Users/andreascaturro/anaconda3/lib/python3.11/site-packages (from ferret-xai) (2.20.0)\n",
      "Requirement already satisfied: joblib<2.0.0,>=1.3.2 in /Users/andreascaturro/anaconda3/lib/python3.11/site-packages (from ferret-xai) (1.4.2)\n",
      "Requirement already satisfied: lime<0.3.0.0,>=0.2.0.1 in /Users/andreascaturro/anaconda3/lib/python3.11/site-packages (from ferret-xai) (0.2.0.1)\n",
      "Requirement already satisfied: matplotlib<4.0.0,>=3.7.4 in /Users/andreascaturro/anaconda3/lib/python3.11/site-packages (from ferret-xai) (3.9.0)\n",
      "Requirement already satisfied: numpy<2.0.0,>=1.24.4 in /Users/andreascaturro/anaconda3/lib/python3.11/site-packages (from ferret-xai) (1.24.4)\n",
      "Requirement already satisfied: opencv-python<5.0.0.0,>=4.9.0.80 in /Users/andreascaturro/anaconda3/lib/python3.11/site-packages (from ferret-xai) (4.9.0.80)\n",
      "Requirement already satisfied: pandas<3.0.0,>=2.0.3 in /Users/andreascaturro/anaconda3/lib/python3.11/site-packages (from ferret-xai) (2.2.2)\n",
      "Requirement already satisfied: pytreebank<0.3.0,>=0.2.7 in /Users/andreascaturro/anaconda3/lib/python3.11/site-packages (from ferret-xai) (0.2.7)\n",
      "Requirement already satisfied: scikit-image<0.22.0,>=0.21.0 in /Users/andreascaturro/anaconda3/lib/python3.11/site-packages (from ferret-xai) (0.21.0)\n",
      "Requirement already satisfied: seaborn<0.14.0,>=0.13.1 in /Users/andreascaturro/anaconda3/lib/python3.11/site-packages (from ferret-xai) (0.13.2)\n",
      "Requirement already satisfied: sentencepiece<0.2.0,>=0.1.99 in /Users/andreascaturro/anaconda3/lib/python3.11/site-packages (from ferret-xai) (0.1.99)\n",
      "Requirement already satisfied: shap<0.45.0,>=0.44.0 in /Users/andreascaturro/anaconda3/lib/python3.11/site-packages (from ferret-xai) (0.44.1)\n",
      "Requirement already satisfied: thermostat-datasets<2.0.0,>=1.1.0 in /Users/andreascaturro/anaconda3/lib/python3.11/site-packages (from ferret-xai) (1.1.0)\n",
      "Requirement already satisfied: tqdm<5.0.0,>=4.66.1 in /Users/andreascaturro/anaconda3/lib/python3.11/site-packages (from ferret-xai) (4.66.4)\n",
      "Requirement already satisfied: transformers<5.0.0,>=4.36.2 in /Users/andreascaturro/anaconda3/lib/python3.11/site-packages (from ferret-xai) (4.41.2)\n",
      "Requirement already satisfied: torch>=1.6 in /Users/andreascaturro/anaconda3/lib/python3.11/site-packages (from captum<0.8.0,>=0.7.0->ferret-xai) (2.2.0)\n",
      "Requirement already satisfied: filelock in /Users/andreascaturro/anaconda3/lib/python3.11/site-packages (from datasets<3.0.0,>=2.16.1->ferret-xai) (3.9.0)\n",
      "Requirement already satisfied: pyarrow>=15.0.0 in /Users/andreascaturro/anaconda3/lib/python3.11/site-packages (from datasets<3.0.0,>=2.16.1->ferret-xai) (16.1.0)\n",
      "Requirement already satisfied: pyarrow-hotfix in /Users/andreascaturro/anaconda3/lib/python3.11/site-packages (from datasets<3.0.0,>=2.16.1->ferret-xai) (0.6)\n",
      "Requirement already satisfied: dill<0.3.9,>=0.3.0 in /Users/andreascaturro/anaconda3/lib/python3.11/site-packages (from datasets<3.0.0,>=2.16.1->ferret-xai) (0.3.6)\n",
      "Requirement already satisfied: requests>=2.32.2 in /Users/andreascaturro/anaconda3/lib/python3.11/site-packages (from datasets<3.0.0,>=2.16.1->ferret-xai) (2.32.3)\n",
      "Requirement already satisfied: xxhash in /Users/andreascaturro/anaconda3/lib/python3.11/site-packages (from datasets<3.0.0,>=2.16.1->ferret-xai) (2.0.2)\n",
      "Requirement already satisfied: multiprocess in /Users/andreascaturro/anaconda3/lib/python3.11/site-packages (from datasets<3.0.0,>=2.16.1->ferret-xai) (0.70.14)\n",
      "Requirement already satisfied: fsspec[http]<=2024.5.0,>=2023.1.0 in /Users/andreascaturro/anaconda3/lib/python3.11/site-packages (from datasets<3.0.0,>=2.16.1->ferret-xai) (2024.5.0)\n",
      "Requirement already satisfied: aiohttp in /Users/andreascaturro/anaconda3/lib/python3.11/site-packages (from datasets<3.0.0,>=2.16.1->ferret-xai) (3.8.5)\n",
      "Requirement already satisfied: huggingface-hub>=0.21.2 in /Users/andreascaturro/anaconda3/lib/python3.11/site-packages (from datasets<3.0.0,>=2.16.1->ferret-xai) (0.23.4)\n",
      "Requirement already satisfied: packaging in /Users/andreascaturro/anaconda3/lib/python3.11/site-packages (from datasets<3.0.0,>=2.16.1->ferret-xai) (23.1)\n",
      "Requirement already satisfied: pyyaml>=5.1 in /Users/andreascaturro/anaconda3/lib/python3.11/site-packages (from datasets<3.0.0,>=2.16.1->ferret-xai) (6.0)\n",
      "Requirement already satisfied: scipy in /Users/andreascaturro/anaconda3/lib/python3.11/site-packages (from lime<0.3.0.0,>=0.2.0.1->ferret-xai) (1.11.1)\n",
      "Requirement already satisfied: scikit-learn>=0.18 in /Users/andreascaturro/anaconda3/lib/python3.11/site-packages (from lime<0.3.0.0,>=0.2.0.1->ferret-xai) (1.3.0)\n",
      "Requirement already satisfied: contourpy>=1.0.1 in /Users/andreascaturro/anaconda3/lib/python3.11/site-packages (from matplotlib<4.0.0,>=3.7.4->ferret-xai) (1.0.5)\n",
      "Requirement already satisfied: cycler>=0.10 in /Users/andreascaturro/anaconda3/lib/python3.11/site-packages (from matplotlib<4.0.0,>=3.7.4->ferret-xai) (0.11.0)\n",
      "Requirement already satisfied: fonttools>=4.22.0 in /Users/andreascaturro/anaconda3/lib/python3.11/site-packages (from matplotlib<4.0.0,>=3.7.4->ferret-xai) (4.25.0)\n",
      "Requirement already satisfied: kiwisolver>=1.3.1 in /Users/andreascaturro/anaconda3/lib/python3.11/site-packages (from matplotlib<4.0.0,>=3.7.4->ferret-xai) (1.4.4)\n",
      "Requirement already satisfied: pillow>=8 in /Users/andreascaturro/anaconda3/lib/python3.11/site-packages (from matplotlib<4.0.0,>=3.7.4->ferret-xai) (9.4.0)\n",
      "Requirement already satisfied: pyparsing>=2.3.1 in /Users/andreascaturro/anaconda3/lib/python3.11/site-packages (from matplotlib<4.0.0,>=3.7.4->ferret-xai) (3.0.9)\n",
      "Requirement already satisfied: python-dateutil>=2.7 in /Users/andreascaturro/anaconda3/lib/python3.11/site-packages (from matplotlib<4.0.0,>=3.7.4->ferret-xai) (2.8.2)\n",
      "Requirement already satisfied: pytz>=2020.1 in /Users/andreascaturro/anaconda3/lib/python3.11/site-packages (from pandas<3.0.0,>=2.0.3->ferret-xai) (2023.3.post1)\n",
      "Requirement already satisfied: tzdata>=2022.7 in /Users/andreascaturro/anaconda3/lib/python3.11/site-packages (from pandas<3.0.0,>=2.0.3->ferret-xai) (2023.3)\n",
      "Requirement already satisfied: networkx>=2.8 in /Users/andreascaturro/anaconda3/lib/python3.11/site-packages (from scikit-image<0.22.0,>=0.21.0->ferret-xai) (3.1)\n",
      "Requirement already satisfied: imageio>=2.27 in /Users/andreascaturro/anaconda3/lib/python3.11/site-packages (from scikit-image<0.22.0,>=0.21.0->ferret-xai) (2.31.1)\n",
      "Requirement already satisfied: tifffile>=2022.8.12 in /Users/andreascaturro/anaconda3/lib/python3.11/site-packages (from scikit-image<0.22.0,>=0.21.0->ferret-xai) (2023.4.12)\n",
      "Requirement already satisfied: PyWavelets>=1.1.1 in /Users/andreascaturro/anaconda3/lib/python3.11/site-packages (from scikit-image<0.22.0,>=0.21.0->ferret-xai) (1.4.1)\n",
      "Requirement already satisfied: lazy_loader>=0.2 in /Users/andreascaturro/anaconda3/lib/python3.11/site-packages (from scikit-image<0.22.0,>=0.21.0->ferret-xai) (0.2)\n",
      "Requirement already satisfied: slicer==0.0.7 in /Users/andreascaturro/anaconda3/lib/python3.11/site-packages (from shap<0.45.0,>=0.44.0->ferret-xai) (0.0.7)\n",
      "Requirement already satisfied: numba in /Users/andreascaturro/anaconda3/lib/python3.11/site-packages (from shap<0.45.0,>=0.44.0->ferret-xai) (0.57.1)\n",
      "Requirement already satisfied: cloudpickle in /Users/andreascaturro/anaconda3/lib/python3.11/site-packages (from shap<0.45.0,>=0.44.0->ferret-xai) (2.2.1)\n",
      "Requirement already satisfied: jsonnet in /Users/andreascaturro/anaconda3/lib/python3.11/site-packages (from thermostat-datasets<2.0.0,>=1.1.0->ferret-xai) (0.20.0)\n",
      "Requirement already satisfied: overrides in /Users/andreascaturro/anaconda3/lib/python3.11/site-packages (from thermostat-datasets<2.0.0,>=1.1.0->ferret-xai) (7.7.0)\n",
      "Requirement already satisfied: protobuf in /Users/andreascaturro/anaconda3/lib/python3.11/site-packages (from thermostat-datasets<2.0.0,>=1.1.0->ferret-xai) (4.25.2)\n",
      "Requirement already satisfied: pytorch-ignite in /Users/andreascaturro/anaconda3/lib/python3.11/site-packages (from thermostat-datasets<2.0.0,>=1.1.0->ferret-xai) (0.5.0.post2)\n",
      "Requirement already satisfied: spacy>=3.0 in /Users/andreascaturro/anaconda3/lib/python3.11/site-packages (from thermostat-datasets<2.0.0,>=1.1.0->ferret-xai) (3.7.5)\n",
      "Requirement already satisfied: regex!=2019.12.17 in /Users/andreascaturro/anaconda3/lib/python3.11/site-packages (from transformers<5.0.0,>=4.36.2->ferret-xai) (2022.7.9)\n",
      "Requirement already satisfied: tokenizers<0.20,>=0.19 in /Users/andreascaturro/anaconda3/lib/python3.11/site-packages (from transformers<5.0.0,>=4.36.2->ferret-xai) (0.19.1)\n",
      "Requirement already satisfied: safetensors>=0.4.1 in /Users/andreascaturro/anaconda3/lib/python3.11/site-packages (from transformers<5.0.0,>=4.36.2->ferret-xai) (0.4.3)\n",
      "Requirement already satisfied: attrs>=17.3.0 in /Users/andreascaturro/anaconda3/lib/python3.11/site-packages (from aiohttp->datasets<3.0.0,>=2.16.1->ferret-xai) (22.1.0)\n",
      "Requirement already satisfied: charset-normalizer<4.0,>=2.0 in /Users/andreascaturro/anaconda3/lib/python3.11/site-packages (from aiohttp->datasets<3.0.0,>=2.16.1->ferret-xai) (2.0.4)\n",
      "Requirement already satisfied: multidict<7.0,>=4.5 in /Users/andreascaturro/anaconda3/lib/python3.11/site-packages (from aiohttp->datasets<3.0.0,>=2.16.1->ferret-xai) (6.0.2)\n",
      "Requirement already satisfied: async-timeout<5.0,>=4.0.0a3 in /Users/andreascaturro/anaconda3/lib/python3.11/site-packages (from aiohttp->datasets<3.0.0,>=2.16.1->ferret-xai) (4.0.2)\n",
      "Requirement already satisfied: yarl<2.0,>=1.0 in /Users/andreascaturro/anaconda3/lib/python3.11/site-packages (from aiohttp->datasets<3.0.0,>=2.16.1->ferret-xai) (1.8.1)\n",
      "Requirement already satisfied: frozenlist>=1.1.1 in /Users/andreascaturro/anaconda3/lib/python3.11/site-packages (from aiohttp->datasets<3.0.0,>=2.16.1->ferret-xai) (1.3.3)\n",
      "Requirement already satisfied: aiosignal>=1.1.2 in /Users/andreascaturro/anaconda3/lib/python3.11/site-packages (from aiohttp->datasets<3.0.0,>=2.16.1->ferret-xai) (1.2.0)\n",
      "Requirement already satisfied: typing-extensions>=3.7.4.3 in /Users/andreascaturro/anaconda3/lib/python3.11/site-packages (from huggingface-hub>=0.21.2->datasets<3.0.0,>=2.16.1->ferret-xai) (4.9.0)\n",
      "Requirement already satisfied: six>=1.5 in /Users/andreascaturro/anaconda3/lib/python3.11/site-packages (from python-dateutil>=2.7->matplotlib<4.0.0,>=3.7.4->ferret-xai) (1.16.0)\n",
      "Requirement already satisfied: idna<4,>=2.5 in /Users/andreascaturro/anaconda3/lib/python3.11/site-packages (from requests>=2.32.2->datasets<3.0.0,>=2.16.1->ferret-xai) (3.4)\n",
      "Requirement already satisfied: urllib3<3,>=1.21.1 in /Users/andreascaturro/anaconda3/lib/python3.11/site-packages (from requests>=2.32.2->datasets<3.0.0,>=2.16.1->ferret-xai) (1.26.16)\n",
      "Requirement already satisfied: certifi>=2017.4.17 in /Users/andreascaturro/anaconda3/lib/python3.11/site-packages (from requests>=2.32.2->datasets<3.0.0,>=2.16.1->ferret-xai) (2023.7.22)\n",
      "Requirement already satisfied: threadpoolctl>=2.0.0 in /Users/andreascaturro/anaconda3/lib/python3.11/site-packages (from scikit-learn>=0.18->lime<0.3.0.0,>=0.2.0.1->ferret-xai) (2.2.0)\n",
      "Requirement already satisfied: spacy-legacy<3.1.0,>=3.0.11 in /Users/andreascaturro/anaconda3/lib/python3.11/site-packages (from spacy>=3.0->thermostat-datasets<2.0.0,>=1.1.0->ferret-xai) (3.0.12)\n",
      "Requirement already satisfied: spacy-loggers<2.0.0,>=1.0.0 in /Users/andreascaturro/anaconda3/lib/python3.11/site-packages (from spacy>=3.0->thermostat-datasets<2.0.0,>=1.1.0->ferret-xai) (1.0.5)\n",
      "Requirement already satisfied: murmurhash<1.1.0,>=0.28.0 in /Users/andreascaturro/anaconda3/lib/python3.11/site-packages (from spacy>=3.0->thermostat-datasets<2.0.0,>=1.1.0->ferret-xai) (1.0.10)\n",
      "Requirement already satisfied: cymem<2.1.0,>=2.0.2 in /Users/andreascaturro/anaconda3/lib/python3.11/site-packages (from spacy>=3.0->thermostat-datasets<2.0.0,>=1.1.0->ferret-xai) (2.0.8)\n",
      "Requirement already satisfied: preshed<3.1.0,>=3.0.2 in /Users/andreascaturro/anaconda3/lib/python3.11/site-packages (from spacy>=3.0->thermostat-datasets<2.0.0,>=1.1.0->ferret-xai) (3.0.9)\n",
      "Requirement already satisfied: thinc<8.3.0,>=8.2.2 in /Users/andreascaturro/anaconda3/lib/python3.11/site-packages (from spacy>=3.0->thermostat-datasets<2.0.0,>=1.1.0->ferret-xai) (8.2.5)\n",
      "Requirement already satisfied: wasabi<1.2.0,>=0.9.1 in /Users/andreascaturro/anaconda3/lib/python3.11/site-packages (from spacy>=3.0->thermostat-datasets<2.0.0,>=1.1.0->ferret-xai) (1.1.3)\n",
      "Requirement already satisfied: srsly<3.0.0,>=2.4.3 in /Users/andreascaturro/anaconda3/lib/python3.11/site-packages (from spacy>=3.0->thermostat-datasets<2.0.0,>=1.1.0->ferret-xai) (2.4.8)\n",
      "Requirement already satisfied: catalogue<2.1.0,>=2.0.6 in /Users/andreascaturro/anaconda3/lib/python3.11/site-packages (from spacy>=3.0->thermostat-datasets<2.0.0,>=1.1.0->ferret-xai) (2.0.10)\n",
      "Requirement already satisfied: weasel<0.5.0,>=0.1.0 in /Users/andreascaturro/anaconda3/lib/python3.11/site-packages (from spacy>=3.0->thermostat-datasets<2.0.0,>=1.1.0->ferret-xai) (0.4.1)\n",
      "Requirement already satisfied: typer<1.0.0,>=0.3.0 in /Users/andreascaturro/anaconda3/lib/python3.11/site-packages (from spacy>=3.0->thermostat-datasets<2.0.0,>=1.1.0->ferret-xai) (0.12.3)\n",
      "Requirement already satisfied: pydantic!=1.8,!=1.8.1,<3.0.0,>=1.7.4 in /Users/andreascaturro/anaconda3/lib/python3.11/site-packages (from spacy>=3.0->thermostat-datasets<2.0.0,>=1.1.0->ferret-xai) (1.10.8)\n",
      "Requirement already satisfied: jinja2 in /Users/andreascaturro/anaconda3/lib/python3.11/site-packages (from spacy>=3.0->thermostat-datasets<2.0.0,>=1.1.0->ferret-xai) (3.1.2)\n",
      "Requirement already satisfied: setuptools in /Users/andreascaturro/anaconda3/lib/python3.11/site-packages (from spacy>=3.0->thermostat-datasets<2.0.0,>=1.1.0->ferret-xai) (68.0.0)\n",
      "Requirement already satisfied: langcodes<4.0.0,>=3.2.0 in /Users/andreascaturro/anaconda3/lib/python3.11/site-packages (from spacy>=3.0->thermostat-datasets<2.0.0,>=1.1.0->ferret-xai) (3.4.0)\n",
      "Requirement already satisfied: sympy in /Users/andreascaturro/anaconda3/lib/python3.11/site-packages (from torch>=1.6->captum<0.8.0,>=0.7.0->ferret-xai) (1.11.1)\n",
      "Requirement already satisfied: llvmlite<0.41,>=0.40.0dev0 in /Users/andreascaturro/anaconda3/lib/python3.11/site-packages (from numba->shap<0.45.0,>=0.44.0->ferret-xai) (0.40.0)\n",
      "Requirement already satisfied: language-data>=1.2 in /Users/andreascaturro/anaconda3/lib/python3.11/site-packages (from langcodes<4.0.0,>=3.2.0->spacy>=3.0->thermostat-datasets<2.0.0,>=1.1.0->ferret-xai) (1.2.0)\n",
      "Requirement already satisfied: blis<0.8.0,>=0.7.8 in /Users/andreascaturro/anaconda3/lib/python3.11/site-packages (from thinc<8.3.0,>=8.2.2->spacy>=3.0->thermostat-datasets<2.0.0,>=1.1.0->ferret-xai) (0.7.11)\n",
      "Requirement already satisfied: confection<1.0.0,>=0.0.1 in /Users/andreascaturro/anaconda3/lib/python3.11/site-packages (from thinc<8.3.0,>=8.2.2->spacy>=3.0->thermostat-datasets<2.0.0,>=1.1.0->ferret-xai) (0.1.5)\n",
      "Requirement already satisfied: click>=8.0.0 in /Users/andreascaturro/anaconda3/lib/python3.11/site-packages (from typer<1.0.0,>=0.3.0->spacy>=3.0->thermostat-datasets<2.0.0,>=1.1.0->ferret-xai) (8.0.4)\n",
      "Requirement already satisfied: shellingham>=1.3.0 in /Users/andreascaturro/anaconda3/lib/python3.11/site-packages (from typer<1.0.0,>=0.3.0->spacy>=3.0->thermostat-datasets<2.0.0,>=1.1.0->ferret-xai) (1.5.4)\n",
      "Requirement already satisfied: rich>=10.11.0 in /Users/andreascaturro/anaconda3/lib/python3.11/site-packages (from typer<1.0.0,>=0.3.0->spacy>=3.0->thermostat-datasets<2.0.0,>=1.1.0->ferret-xai) (13.7.1)\n",
      "Requirement already satisfied: cloudpathlib<1.0.0,>=0.7.0 in /Users/andreascaturro/anaconda3/lib/python3.11/site-packages (from weasel<0.5.0,>=0.1.0->spacy>=3.0->thermostat-datasets<2.0.0,>=1.1.0->ferret-xai) (0.18.1)\n",
      "Requirement already satisfied: smart-open<8.0.0,>=5.2.1 in /Users/andreascaturro/anaconda3/lib/python3.11/site-packages (from weasel<0.5.0,>=0.1.0->spacy>=3.0->thermostat-datasets<2.0.0,>=1.1.0->ferret-xai) (5.2.1)\n",
      "Requirement already satisfied: MarkupSafe>=2.0 in /Users/andreascaturro/anaconda3/lib/python3.11/site-packages (from jinja2->spacy>=3.0->thermostat-datasets<2.0.0,>=1.1.0->ferret-xai) (2.1.1)\n",
      "Requirement already satisfied: mpmath>=0.19 in /Users/andreascaturro/anaconda3/lib/python3.11/site-packages (from sympy->torch>=1.6->captum<0.8.0,>=0.7.0->ferret-xai) (1.3.0)\n",
      "Requirement already satisfied: marisa-trie>=0.7.7 in /Users/andreascaturro/anaconda3/lib/python3.11/site-packages (from language-data>=1.2->langcodes<4.0.0,>=3.2.0->spacy>=3.0->thermostat-datasets<2.0.0,>=1.1.0->ferret-xai) (1.2.0)\n",
      "Requirement already satisfied: markdown-it-py>=2.2.0 in /Users/andreascaturro/anaconda3/lib/python3.11/site-packages (from rich>=10.11.0->typer<1.0.0,>=0.3.0->spacy>=3.0->thermostat-datasets<2.0.0,>=1.1.0->ferret-xai) (2.2.0)\n",
      "Requirement already satisfied: pygments<3.0.0,>=2.13.0 in /Users/andreascaturro/anaconda3/lib/python3.11/site-packages (from rich>=10.11.0->typer<1.0.0,>=0.3.0->spacy>=3.0->thermostat-datasets<2.0.0,>=1.1.0->ferret-xai) (2.15.1)\n",
      "Requirement already satisfied: mdurl~=0.1 in /Users/andreascaturro/anaconda3/lib/python3.11/site-packages (from markdown-it-py>=2.2.0->rich>=10.11.0->typer<1.0.0,>=0.3.0->spacy>=3.0->thermostat-datasets<2.0.0,>=1.1.0->ferret-xai) (0.1.0)\n"
     ]
    }
   ],
   "source": [
    "! pip install -U ferret-xai"
   ]
  },
  {
   "cell_type": "code",
   "execution_count": 1,
   "metadata": {},
   "outputs": [
    {
     "ename": "ModuleNotFoundError",
     "evalue": "No module named 'ferret'",
     "output_type": "error",
     "traceback": [
      "\u001b[1;31m---------------------------------------------------------------------------\u001b[0m",
      "\u001b[1;31mModuleNotFoundError\u001b[0m                       Traceback (most recent call last)",
      "Cell \u001b[1;32mIn[1], line 2\u001b[0m\n\u001b[0;32m      1\u001b[0m \u001b[38;5;28;01mfrom\u001b[39;00m \u001b[38;5;21;01mtransformers\u001b[39;00m \u001b[38;5;28;01mimport\u001b[39;00m AutoModelForSequenceClassification, AutoTokenizer\n\u001b[1;32m----> 2\u001b[0m \u001b[38;5;28;01mfrom\u001b[39;00m \u001b[38;5;21;01mferret\u001b[39;00m \u001b[38;5;28;01mimport\u001b[39;00m Benchmark\n\u001b[0;32m      4\u001b[0m name \u001b[38;5;241m=\u001b[39m \u001b[38;5;124m\"\u001b[39m\u001b[38;5;124mcardiffnlp/twitter-xlm-roberta-base-sentiment\u001b[39m\u001b[38;5;124m\"\u001b[39m\n\u001b[0;32m      5\u001b[0m model \u001b[38;5;241m=\u001b[39m AutoModelForSequenceClassification\u001b[38;5;241m.\u001b[39mfrom_pretrained(name)\n",
      "\u001b[1;31mModuleNotFoundError\u001b[0m: No module named 'ferret'"
     ]
    }
   ],
   "source": [
    "from transformers import AutoModelForSequenceClassification, AutoTokenizer\n",
    "from ferret import Benchmark\n",
    "\n",
    "name = \"cardiffnlp/twitter-xlm-roberta-base-sentiment\"\n",
    "model = AutoModelForSequenceClassification.from_pretrained(name)\n",
    "tokenizer = AutoTokenizer.from_pretrained(name)\n",
    "bench = Benchmark(model, tokenizer)\n",
    "explanations = bench.explain(\"You look stunning!\", target=1)\n",
    "evaluations = bench.evaluate_explanations(explanations, target=1)\n",
    "\n",
    "bench.show_evaluation_table(evaluations)"
   ]
  }
 ],
 "metadata": {
  "kernelspec": {
   "display_name": "Python 3",
   "language": "python",
   "name": "python3"
  },
  "language_info": {
   "codemirror_mode": {
    "name": "ipython",
    "version": 3
   },
   "file_extension": ".py",
   "mimetype": "text/x-python",
   "name": "python",
   "nbconvert_exporter": "python",
   "pygments_lexer": "ipython3",
   "version": "3.10.11"
  },
  "orig_nbformat": 4,
  "vscode": {
   "interpreter": {
    "hash": "b0fa6594d8f4cbf19f97940f81e996739fb7646882a419484c72d19e05852a7e"
   }
  }
 },
 "nbformat": 4,
 "nbformat_minor": 2
}
